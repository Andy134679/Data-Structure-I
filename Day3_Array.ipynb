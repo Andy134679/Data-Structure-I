{
 "cells": [
  {
   "attachments": {},
   "cell_type": "markdown",
   "metadata": {},
   "source": [
    "350. Intersection of Two Arrays II\n",
    "\n",
    "Given two integer arrays nums1 and nums2, return an array of their intersection. Each element in the result must appear as many times as it shows in both arrays and you may return the result in any order."
   ]
  },
  {
   "cell_type": "code",
   "execution_count": null,
   "metadata": {},
   "outputs": [],
   "source": [
    "#order nums1 and nums2 from smallest to largest\n",
    "#loop through both lists at the same time\n",
    "#if the numbers are equal, add to the intersection list\n",
    "#if the number in nums1 is greater than the number in nums2, move to the next number in nums2\n",
    "#if the number in nums2 is greater than the number in nums1, move to the next number in nums1\n",
    "#return the intersection list\n",
    "class Solution:\n",
    "    def intersect(self, nums1: List[int], nums2: List[int]) -> List[int]:\n",
    "        sort1 = sorted(nums1)\n",
    "        sort2 = sorted(nums2)\n",
    "        a = 0\n",
    "        b = 0\n",
    "        inter = []\n",
    "        while a < len(sort1) and b < len(sort2):\n",
    "            if sort1[a] > sort2[b]:\n",
    "                b+=1\n",
    "            elif sort2[b] > sort1[a]:\n",
    "                a+=1\n",
    "            else:\n",
    "                inter.append(sort2[b])\n",
    "                a+=1\n",
    "                b+=1\n",
    "        return inter"
   ]
  },
  {
   "attachments": {},
   "cell_type": "markdown",
   "metadata": {},
   "source": [
    "121. Best Time to Buy and Sell Stock\n",
    "\n",
    "You are given an array prices where prices[i] is the price of a given stock on the ith day.\n",
    "\n",
    "You want to maximize your profit by choosing a single day to buy one stock and choosing a different day in the future to sell that stock.\n",
    "\n",
    "Return the maximum profit you can achieve from this transaction. If you cannot achieve any profit, return 0."
   ]
  },
  {
   "cell_type": "code",
   "execution_count": null,
   "metadata": {},
   "outputs": [],
   "source": [
    "#loop through the list and calculate the profit for each day, save the max profit\n",
    "#update the low value if the current value is lower\n",
    "class Solution:\n",
    "    def maxProfit(self, prices: List[int]) -> int:\n",
    "        max_profit = 0\n",
    "        low = prices[0]\n",
    "        for i, value1 in enumerate(prices):\n",
    "            if value1 < low:\n",
    "                low = value1\n",
    "            current_profit = value1 - low\n",
    "            if current_profit > max_profit:\n",
    "                max_profit = current_profit\n",
    "        return max_profit"
   ]
  }
 ],
 "metadata": {
  "kernelspec": {
   "display_name": "base",
   "language": "python",
   "name": "python3"
  },
  "language_info": {
   "codemirror_mode": {
    "name": "ipython",
    "version": 3
   },
   "file_extension": ".py",
   "mimetype": "text/x-python",
   "name": "python",
   "nbconvert_exporter": "python",
   "pygments_lexer": "ipython3",
   "version": "3.10.9"
  },
  "orig_nbformat": 4
 },
 "nbformat": 4,
 "nbformat_minor": 2
}
