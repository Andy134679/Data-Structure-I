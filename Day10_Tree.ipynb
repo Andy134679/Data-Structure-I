{
 "cells": [
  {
   "attachments": {},
   "cell_type": "markdown",
   "metadata": {},
   "source": [
    "144. Binary Tree Preorder Traversal\n",
    "\n",
    "Given the root of a binary tree, return the preorder traversal of its nodes' values."
   ]
  },
  {
   "cell_type": "code",
   "execution_count": null,
   "metadata": {},
   "outputs": [],
   "source": [
    "#create a def to traverse the tree\n",
    "#while executing a def, a new def will be executed if there is a left node or right node\n",
    "#the def will be executed until there is no left node or right node\n",
    "#return the result\n",
    "\n",
    "# Definition for a binary tree node.\n",
    "# class TreeNode:\n",
    "#     def __init__(self, val=0, left=None, right=None):\n",
    "#         self.val = val\n",
    "#         self.left = left\n",
    "#         self.right = right\n",
    "class Solution:\n",
    "    def preorderTraversal(self, root: Optional[TreeNode]) -> List[int]:\n",
    "        ans = []\n",
    "        def dfs(node):\n",
    "            if not node:\n",
    "                return\n",
    "\n",
    "            ans.append(node.val)\n",
    "            dfs(node.left)\n",
    "            dfs(node.right)\n",
    "        \n",
    "        dfs(root)\n",
    "        return ans"
   ]
  },
  {
   "cell_type": "code",
   "execution_count": null,
   "metadata": {},
   "outputs": [],
   "source": [
    "#stack the nodes into a stack list\n",
    "#pop the last node and append it to the ans list\n",
    "#append the right node first and then the left node, to make sure left pop first\n",
    "#return the ans list\n",
    "\n",
    "# Definition for a binary tree node.\n",
    "# class TreeNode:\n",
    "#     def __init__(self, val=0, left=None, right=None):\n",
    "#         self.val = val\n",
    "#         self.left = left\n",
    "#         self.right = right\n",
    "class Solution:\n",
    "    def preorderTraversal(self, root: Optional[TreeNode]) -> List[int]:\n",
    "        ans = []\n",
    "        stack = [root]\n",
    "\n",
    "        while stack:\n",
    "            curr_node = stack.pop()\n",
    "            if curr_node:\n",
    "                ans.append(curr_node.val)\n",
    "                stack.append(curr_node.right)\n",
    "                stack.append(curr_node.left)\n",
    "        return ans"
   ]
  },
  {
   "cell_type": "code",
   "execution_count": null,
   "metadata": {},
   "outputs": [],
   "source": [
    "#Morris Traversal\n",
    "\n",
    "# Definition for a binary tree node.\n",
    "# class TreeNode:\n",
    "#     def __init__(self, val=0, left=None, right=None):\n",
    "#         self.val = val\n",
    "#         self.left = left\n",
    "#         self.right = right\n",
    "class Solution:\n",
    "    def preorderTraversal(self, root: Optional[TreeNode]) -> List[int]:\n",
    "        ans = []\n",
    "        curr = root\n",
    "\n",
    "        while curr:\n",
    "            if not curr.left:\n",
    "                ans.append(curr.val)\n",
    "                curr = curr.right\n",
    "            else:\n",
    "                last = curr.left\n",
    "                while last.right and last.right != curr:\n",
    "                    last = last.right\n",
    "                if not last.right:\n",
    "                    ans.append(curr.val)\n",
    "                    last.right = curr\n",
    "                    curr = curr.left\n",
    "                else:\n",
    "                    last.right = None\n",
    "                    curr = curr.right\n",
    "        return ans"
   ]
  },
  {
   "attachments": {},
   "cell_type": "markdown",
   "metadata": {},
   "source": [
    "94. Binary Tree Inorder Traversal\n",
    "\n",
    "Given the root of a binary tree, return the inorder traversal of its nodes' values."
   ]
  },
  {
   "cell_type": "code",
   "execution_count": null,
   "metadata": {},
   "outputs": [],
   "source": [
    "#stack the nodes into a stack list\n",
    "#pop the last node and append it to the ans list\n",
    "#append the right node first and then the left node, to make sure left pop first\n",
    "#return the ans list\n",
    "\n",
    "# Definition for a binary tree node.\n",
    "# class TreeNode:\n",
    "#     def __init__(self, val=0, left=None, right=None):\n",
    "#         self.val = val\n",
    "#         self.left = left\n",
    "#         self.right = right\n",
    "class Solution:\n",
    "    def inorderTraversal(self, root: TreeNode) -> List[int]:\n",
    "        res, stack = [], [(root, False)]\n",
    "        while stack:\n",
    "            node, visited = stack.pop()  # the last element\n",
    "            if node:\n",
    "                if visited:\n",
    "                    res.append(node.val)\n",
    "                else:  # inorder: left -> root -> right\n",
    "                    stack.append((node.right, False))\n",
    "                    stack.append((node, True))\n",
    "                    stack.append((node.left, False))\n",
    "        return res"
   ]
  },
  {
   "attachments": {},
   "cell_type": "markdown",
   "metadata": {},
   "source": [
    "145. Binary Tree Postorder Traversal\n",
    "\n",
    "Given the root of a binary tree, return the postorder traversal of its nodes' values."
   ]
  },
  {
   "cell_type": "code",
   "execution_count": null,
   "metadata": {},
   "outputs": [],
   "source": [
    "class Solution(object):\n",
    "    def postorderTraversal(self, root):\n",
    "        # Base case...\n",
    "        if not root: return []\n",
    "        # Create an array list to store the solution result...\n",
    "        sol = []\n",
    "        # Create an empty stack and push the root node...\n",
    "        bag = [root]\n",
    "        # Loop till stack is empty...\n",
    "        while bag:\n",
    "            # Pop a node from the stack...\n",
    "            node = bag.pop()\n",
    "            sol.append(node.val)\n",
    "            # Push the left child of the popped node into the stack...\n",
    "            if node.left:\n",
    "                bag.append(node.left)\n",
    "            # Append the right child of the popped node into the stack...\n",
    "            if node.right:\n",
    "                bag.append(node.right)\n",
    "        return sol[::-1]       # Return the solution list..."
   ]
  }
 ],
 "metadata": {
  "language_info": {
   "name": "python"
  },
  "orig_nbformat": 4
 },
 "nbformat": 4,
 "nbformat_minor": 2
}
