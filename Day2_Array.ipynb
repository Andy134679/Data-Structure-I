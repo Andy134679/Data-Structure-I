{
 "cells": [
  {
   "attachments": {},
   "cell_type": "markdown",
   "metadata": {},
   "source": [
    "1. Two Sum\n",
    "\n",
    "Given an array of integers nums and an integer target, return indices of the two numbers such that they add up to target.\n",
    "\n",
    "You may assume that each input would have exactly one solution, and you may not use the same element twice.\n",
    "\n",
    "You can return the answer in any order."
   ]
  },
  {
   "cell_type": "code",
   "execution_count": null,
   "metadata": {},
   "outputs": [],
   "source": [
    "#logic: \n",
    "# 1. create a dictionary\n",
    "# 2. iterate through the list\n",
    "# 3. check if the remaining value is in the dictionary\n",
    "# 4. if yes (meaning remaining value in dictionary and the current value can add up to the target value), \n",
    "#    return the index of the remaining value and the current index\n",
    "# 5. if no, add the current value to the dictionary\n",
    "\n",
    "class Solution:\n",
    "    def twoSum(self, nums: List[int], target: int) -> List[int]:\n",
    "        seen = {}\n",
    "        for i, value in enumerate(nums):\n",
    "            remaining = target - nums[i]\n",
    "            if remaining in seen:\n",
    "                return [seen[remaining], i]\n",
    "            else:\n",
    "               seen[value] = i"
   ]
  },
  {
   "attachments": {},
   "cell_type": "markdown",
   "metadata": {},
   "source": [
    "88. Merge Sorted Array\n",
    "\n",
    "You are given two integer arrays nums1 and nums2, sorted in non-decreasing order, and two integers m and n, representing the number of elements in nums1 and nums2 respectively.\n",
    "\n",
    "Merge nums1 and nums2 into a single array sorted in non-decreasing order.\n",
    "\n",
    "The final sorted array should not be returned by the function, but instead be stored inside the array nums1. To accommodate this, nums1 has a length of m + n, where the first m elements denote the elements that should be merged, and the last n elements are set to 0 and should be ignored. nums2 has a length of n."
   ]
  },
  {
   "cell_type": "code",
   "execution_count": null,
   "metadata": {},
   "outputs": [],
   "source": [
    "#logic: compare backwards, starting from the last index of nums1 and nums2, and put the greater value in the last index of nums1, iterate until all elements in nums1 are filled\n",
    "class Solution:\n",
    "    def merge(self, nums1: List[int], m: int, nums2: List[int], n: int) -> None:\n",
    "        a, b= m-1,n-1\n",
    "        c = len(nums1)-1\n",
    "        while a >= 0 and b >= 0:        # there are still remaining elements in both arrays\n",
    "            if nums1[a] > nums2[b]:     # if element in nums1 is greater than element in nums2\n",
    "                nums1[c] = nums1[a]     # put element in nums1 in the last position of nums1\n",
    "                a-=1                    # decrement a\n",
    "            else:\n",
    "                nums1[c] = nums2[b]     # put element in nums2 in the last position of nums1\n",
    "                b-=1                    # decrement b\n",
    "            c-=1                        # decrement c (last position of nums1)\n",
    "\n",
    "        while a >= 0:                   # if there are still remaining elements in nums1\n",
    "            nums1[c] = nums1[a]         # put element in nums1 in the last position of nums1\n",
    "            c-=1                        # decrement c\n",
    "            a-=1                        # decrement a\n",
    "            \n",
    "        while b >= 0:                   # if there are still remaining elements in nums2\n",
    "            nums1[c] = nums2[b]         # put element in nums2 in the last position of nums1\n",
    "            c-=1                        # decrement c\n",
    "            b-=1                        # decrement b"
   ]
  }
 ],
 "metadata": {
  "language_info": {
   "name": "python"
  },
  "orig_nbformat": 4
 },
 "nbformat": 4,
 "nbformat_minor": 2
}
